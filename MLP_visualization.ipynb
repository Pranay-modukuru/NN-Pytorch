{
 "cells": [
  {
   "cell_type": "markdown",
   "metadata": {},
   "source": [
    "# Visualizing Layer Activations of MLP"
   ]
  },
  {
   "cell_type": "markdown",
   "metadata": {},
   "source": [
    "#### This notebook shows a way to visualize the activations of a layer given an input to the network \n",
    " \n",
    "    - Data used to train the model is MNIST\n",
    "    - The neural network is implemented with Pytorch"
   ]
  },
  {
   "cell_type": "code",
   "execution_count": 1,
   "metadata": {},
   "outputs": [],
   "source": [
    "# Importing the required libraries\n",
    "import numpy as np\n",
    "import matplotlib.pyplot as plt\n",
    "import torch\n",
    "import torchvision\n",
    "import torch.nn as nn\n",
    "import torch.nn.functional as F\n",
    "from statistics import mean\n",
    "import sys\n",
    "\n",
    "%matplotlib inline"
   ]
  },
  {
   "cell_type": "code",
   "execution_count": 2,
   "metadata": {},
   "outputs": [],
   "source": [
    "# Importing Data \n",
    "transformer = torchvision.transforms.Compose([\n",
    "                               torchvision.transforms.ToTensor(),\n",
    "                               torchvision.transforms.Normalize(\n",
    "                                 (0.1307,), (0.3081,))])\n",
    "\n",
    "train_dataset = torchvision.datasets.MNIST(root = '../data', \n",
    "                            train=True, download=True,\n",
    "                             transform=transformer)\n",
    "\n",
    "valid_dataset = torchvision.datasets.MNIST(root = '../data', \n",
    "                                train=False, download=True,\n",
    "                             transform=transformer)"
   ]
  },
  {
   "cell_type": "code",
   "execution_count": 3,
   "metadata": {},
   "outputs": [],
   "source": [
    "# Generating Dataloaders\n",
    "train_params = {'batch_size': 64,\n",
    "          'shuffle': True,\n",
    "          'num_workers': 1,\n",
    "          'pin_memory' : True \n",
    "          }\n",
    "\n",
    "valid_params = {'batch_size': 1000,\n",
    "          'shuffle': True,\n",
    "          'num_workers': 1,\n",
    "          'pin_memory' : True\n",
    "          }\n",
    "\n",
    "train_loader = torch.utils.data.DataLoader(train_dataset,**train_params)\n",
    "\n",
    "valid_loader = torch.utils.data.DataLoader(valid_dataset,**valid_params)"
   ]
  },
  {
   "cell_type": "code",
   "execution_count": 4,
   "metadata": {},
   "outputs": [
    {
     "data": {
      "text/plain": [
       "'cuda'"
      ]
     },
     "execution_count": 4,
     "metadata": {},
     "output_type": "execute_result"
    }
   ],
   "source": [
    "# Run on 'cuda' if available\n",
    "device = ('cuda' if torch.cuda.is_available() else 'cpu')\n",
    "device"
   ]
  },
  {
   "cell_type": "code",
   "execution_count": 5,
   "metadata": {},
   "outputs": [],
   "source": [
    "# Network Class\n",
    "class Network(nn.Module):\n",
    "    def __init__(self):\n",
    "        super(Network, self).__init__()\n",
    "        self.fc1 = nn.Linear(28*28, 100)\n",
    "        self.fc2 = nn.Linear(100,10)\n",
    "            \n",
    "    def forward(self, input):\n",
    "        input = input.view(-1, 28*28)\n",
    "        self.out1 = F.relu(self.fc1(input))\n",
    "        self.out2 = F.relu(self.fc2(self.out1))\n",
    "        return self.out2\n",
    "    \n",
    "    def execute_train(self, num_epochs, train_loader, opt, loss_fun):\n",
    "        \"\"\"\n",
    "        Trains the model for the specified number of epochs\n",
    "        \"\"\"\n",
    "        self.train()\n",
    "        losses = []\n",
    "        for epoch in range(1,num_epochs+1):\n",
    "            batch_losses = []\n",
    "            for batch_idx, (data, target) in enumerate(train_loader):\n",
    "                data, target = data.to(device), target.to(device)\n",
    "                \n",
    "                out = self(data)\n",
    "                loss = loss_fun(out, target)\n",
    "                \n",
    "                batch_losses.append(loss.item())\n",
    "                \n",
    "                opt.zero_grad()\n",
    "                loss.backward()\n",
    "                opt.step()\n",
    "            \n",
    "            losses.append(mean(batch_losses))\n",
    "                \n",
    "            if epoch % 2 == 0:\n",
    "                print('Epoch [{}/{}] Loss : {:.4f}'.format(epoch, num_epochs, losses[epoch-1]))\n",
    "        \n",
    "        return losses\n",
    "    \n",
    "    def visualize_activations(self, data, path = 'activation_images/', save_fig_name = '1', show = False):\n",
    "        \"\"\"\n",
    "        Plots input, layer activations, predicted output in one plot\n",
    "        \"\"\"\n",
    "        fig, axs = plt.subplots(1,4, figsize=(10,12))\n",
    "        for ax in axs:\n",
    "            ax.axis('off')\n",
    "\n",
    "        with torch.no_grad():\n",
    "            self.forward(data)\n",
    "\n",
    "        data = data.squeeze(0).cpu().numpy()\n",
    "        self.out1 = self.out1.squeeze(0).squeeze(0).cpu().numpy().reshape(100,1)\n",
    "        self.out2 = self.out2.squeeze(0).squeeze(0).cpu().numpy().reshape(10,1)\n",
    "        actual_out = np.where(self.out2 == max(self.out2))[0][0]\n",
    "\n",
    "        axs[0].imshow(data,cmap='gist_gray',aspect=1)\n",
    "        axs[0].set_title('Input')\n",
    "        axs[1].imshow(self.out1, cmap='gist_gray',aspect=0.1)\n",
    "        axs[1].set_title('Hidden Layer activations')\n",
    "        axs[2].imshow(self.out2, cmap='gist_gray',aspect=0.09)\n",
    "        axs[2].set_title('Output Layer activations')\n",
    "        axs[3].text(0.3, 0.5, str(actual_out), fontsize=15)\n",
    "        axs[3].text(0.1, 0.6, 'Predicted', fontsize=12)\n",
    "        plt.savefig(str(path)+str(save_fig_name)+'.png')\n",
    "        if show:\n",
    "            plt.show()\n",
    "        plt.clf()\n"
   ]
  },
  {
   "cell_type": "markdown",
   "metadata": {},
   "source": [
    "###### Initializing the model"
   ]
  },
  {
   "cell_type": "code",
   "execution_count": 6,
   "metadata": {},
   "outputs": [
    {
     "data": {
      "text/plain": [
       "Network(\n",
       "  (fc1): Linear(in_features=784, out_features=100, bias=True)\n",
       "  (fc2): Linear(in_features=100, out_features=10, bias=True)\n",
       ")"
      ]
     },
     "execution_count": 6,
     "metadata": {},
     "output_type": "execute_result"
    }
   ],
   "source": [
    "net = Network().to(device)\n",
    "net"
   ]
  },
  {
   "cell_type": "markdown",
   "metadata": {},
   "source": [
    "###### Declaring the optimizer and loss function to be used"
   ]
  },
  {
   "cell_type": "code",
   "execution_count": 7,
   "metadata": {},
   "outputs": [],
   "source": [
    "opt_sgd = torch.optim.Adam(net.parameters(), lr = 0.001)"
   ]
  },
  {
   "cell_type": "code",
   "execution_count": 8,
   "metadata": {},
   "outputs": [],
   "source": [
    "loss_fun = nn.CrossEntropyLoss()"
   ]
  },
  {
   "cell_type": "markdown",
   "metadata": {},
   "source": [
    "##### Training the model\n",
    "\n",
    "    Also there is a saved version of the state dictionary of the model, which can be used if you don't want to wait for the model to be trained"
   ]
  },
  {
   "cell_type": "code",
   "execution_count": 9,
   "metadata": {
    "scrolled": true
   },
   "outputs": [
    {
     "name": "stdout",
     "output_type": "stream",
     "text": [
      "Epoch [2/50] Loss : 0.5814\n",
      "Epoch [4/50] Loss : 0.5316\n",
      "Epoch [6/50] Loss : 0.5115\n",
      "Epoch [8/50] Loss : 0.4971\n",
      "Epoch [10/50] Loss : 0.4894\n",
      "Epoch [12/50] Loss : 0.4840\n",
      "Epoch [14/50] Loss : 0.4809\n",
      "Epoch [16/50] Loss : 0.4782\n",
      "Epoch [18/50] Loss : 0.4756\n",
      "Epoch [20/50] Loss : 0.4758\n",
      "Epoch [22/50] Loss : 0.4743\n",
      "Epoch [24/50] Loss : 0.4744\n",
      "Epoch [26/50] Loss : 0.4752\n",
      "Epoch [28/50] Loss : 0.4730\n",
      "Epoch [30/50] Loss : 0.4715\n",
      "Epoch [32/50] Loss : 0.4702\n",
      "Epoch [34/50] Loss : 0.4723\n",
      "Epoch [36/50] Loss : 0.4723\n",
      "Epoch [38/50] Loss : 0.4721\n",
      "Epoch [40/50] Loss : 0.4704\n",
      "Epoch [42/50] Loss : 0.4718\n",
      "Epoch [44/50] Loss : 0.4712\n",
      "Epoch [46/50] Loss : 0.4706\n",
      "Epoch [48/50] Loss : 0.4716\n",
      "Epoch [50/50] Loss : 0.4698\n"
     ]
    }
   ],
   "source": [
    "train_losses = net.execute_train(50, train_loader, opt_sgd, loss_fun)"
   ]
  },
  {
   "cell_type": "markdown",
   "metadata": {},
   "source": [
    "#### Models state dictionary i.e. weights and biases are stored into file 'model_state_dict'"
   ]
  },
  {
   "cell_type": "code",
   "execution_count": 19,
   "metadata": {},
   "outputs": [],
   "source": [
    "torch.save(net.state_dict(), 'model_state_dict')"
   ]
  },
  {
   "cell_type": "markdown",
   "metadata": {},
   "source": [
    "# If you want to skip the training\n",
    "#### Just load the state dictionary into the model\n",
    "##### but before that initialize the model with the Network class defined above"
   ]
  },
  {
   "cell_type": "code",
   "execution_count": 20,
   "metadata": {},
   "outputs": [
    {
     "data": {
      "text/plain": [
       "<All keys matched successfully>"
      ]
     },
     "execution_count": 20,
     "metadata": {},
     "output_type": "execute_result"
    }
   ],
   "source": [
    "device = ('cuda' if torch.cuda.is_available() else 'cpu')\n",
    "\n",
    "model = Network()\n",
    "model.load_state_dict(torch.load('model_state_dict', map_location=device))"
   ]
  },
  {
   "cell_type": "code",
   "execution_count": 12,
   "metadata": {},
   "outputs": [],
   "source": [
    "def get_random_data(dataset):\n",
    "    \"\"\"\n",
    "    Gets a random data from the dataset provided\n",
    "    \"\"\"\n",
    "    i = np.random.randint(100)\n",
    "    data = dataset[i][0]\n",
    "    return data"
   ]
  },
  {
   "cell_type": "markdown",
   "metadata": {},
   "source": [
    "#### Calling the visualize activations method of the model and giving a random image from the validation data "
   ]
  },
  {
   "cell_type": "code",
   "execution_count": 13,
   "metadata": {},
   "outputs": [
    {
     "data": {
      "image/png": "[encoded data removed]",
      "text/plain": [
       "<Figure size 720x864 with 4 Axes>"
      ]
     },
     "metadata": {
      "needs_background": "light"
     },
     "output_type": "display_data"
    },
    {
     "data": {
      "text/plain": [
       "<Figure size 432x288 with 0 Axes>"
      ]
     },
     "metadata": {},
     "output_type": "display_data"
    }
   ],
   "source": [
    "model.visualize_activations(get_random_data(valid_dataset), 1, show = True)"
   ]
  },
  {
   "cell_type": "markdown",
   "metadata": {},
   "source": [
    "### If you are interested in showing these visualizations as a video, this part is for you!"
   ]
  },
  {
   "cell_type": "markdown",
   "metadata": {},
   "source": [
    "##### First run the visualize method for desired number of times and make sure that these are saved in desired folder"
   ]
  },
  {
   "cell_type": "code",
   "execution_count": 14,
   "metadata": {
    "scrolled": true
   },
   "outputs": [
    {
     "data": {
      "text/plain": [
       "<Figure size 720x864 with 0 Axes>"
      ]
     },
     "metadata": {},
     "output_type": "display_data"
    },
    {
     "data": {
      "text/plain": [
       "<Figure size 720x864 with 0 Axes>"
      ]
     },
     "metadata": {},
     "output_type": "display_data"
    },
    {
     "data": {
      "text/plain": [
       "<Figure size 720x864 with 0 Axes>"
      ]
     },
     "metadata": {},
     "output_type": "display_data"
    },
    {
     "data": {
      "text/plain": [
       "<Figure size 720x864 with 0 Axes>"
      ]
     },
     "metadata": {},
     "output_type": "display_data"
    },
    {
     "data": {
      "text/plain": [
       "<Figure size 720x864 with 0 Axes>"
      ]
     },
     "metadata": {},
     "output_type": "display_data"
    },
    {
     "data": {
      "text/plain": [
       "<Figure size 720x864 with 0 Axes>"
      ]
     },
     "metadata": {},
     "output_type": "display_data"
    },
    {
     "data": {
      "text/plain": [
       "<Figure size 720x864 with 0 Axes>"
      ]
     },
     "metadata": {},
     "output_type": "display_data"
    },
    {
     "data": {
      "text/plain": [
       "<Figure size 720x864 with 0 Axes>"
      ]
     },
     "metadata": {},
     "output_type": "display_data"
    },
    {
     "data": {
      "text/plain": [
       "<Figure size 720x864 with 0 Axes>"
      ]
     },
     "metadata": {},
     "output_type": "display_data"
    },
    {
     "data": {
      "text/plain": [
       "<Figure size 720x864 with 0 Axes>"
      ]
     },
     "metadata": {},
     "output_type": "display_data"
    },
    {
     "data": {
      "text/plain": [
       "<Figure size 720x864 with 0 Axes>"
      ]
     },
     "metadata": {},
     "output_type": "display_data"
    },
    {
     "data": {
      "text/plain": [
       "<Figure size 720x864 with 0 Axes>"
      ]
     },
     "metadata": {},
     "output_type": "display_data"
    },
    {
     "data": {
      "text/plain": [
       "<Figure size 720x864 with 0 Axes>"
      ]
     },
     "metadata": {},
     "output_type": "display_data"
    },
    {
     "data": {
      "text/plain": [
       "<Figure size 720x864 with 0 Axes>"
      ]
     },
     "metadata": {},
     "output_type": "display_data"
    },
    {
     "data": {
      "text/plain": [
       "<Figure size 720x864 with 0 Axes>"
      ]
     },
     "metadata": {},
     "output_type": "display_data"
    }
   ],
   "source": [
    "for i in range(15):\n",
    "    model.visualize_activations(get_random_data(valid_dataset), path = 'activation_images/', save_fig_name = i, show = False)"
   ]
  },
  {
   "cell_type": "markdown",
   "metadata": {},
   "source": [
    "#### Load all the images  into a list"
   ]
  },
  {
   "cell_type": "code",
   "execution_count": 22,
   "metadata": {},
   "outputs": [],
   "source": [
    "import cv2\n",
    "import glob\n",
    "\n",
    "# path = 'path to the folder images are stored'\n",
    "path = 'activation_images'\n",
    "\n",
    "img_array = []\n",
    "for filename in glob.glob( path +'/*.png'):\n",
    "    img = cv2.imread(filename)\n",
    "    height, width, layers = img.shape\n",
    "    size = (width,height)\n",
    "    img_array.append(img)"
   ]
  },
  {
   "cell_type": "markdown",
   "metadata": {},
   "source": [
    "###### To see the number of images loaded into the list "
   ]
  },
  {
   "cell_type": "code",
   "execution_count": 23,
   "metadata": {},
   "outputs": [
    {
     "data": {
      "text/plain": [
       "15"
      ]
     },
     "execution_count": 23,
     "metadata": {},
     "output_type": "execute_result"
    }
   ],
   "source": [
    "len(img_array)"
   ]
  },
  {
   "cell_type": "markdown",
   "metadata": {},
   "source": [
    "#### Now generate a video of desired frame rate"
   ]
  },
  {
   "cell_type": "code",
   "execution_count": 26,
   "metadata": {},
   "outputs": [],
   "source": [
    "\n",
    "out = cv2.VideoWriter('activations_video.avi',cv2.VideoWriter_fourcc(*'DIVX'), 1, size)\n",
    "\n",
    "for i in range(len(img_array)):\n",
    "    out.write(img_array[i])\n",
    "out.release()"
   ]
  },
  {
   "cell_type": "code",
   "execution_count": 27,
   "metadata": {},
   "outputs": [
    {
     "data": {
      "text/html": [
       "<video src=\"activations_video.avi\" controls  >\n",
       "      Your browser does not support the <code>video</code> element.\n",
       "    </video>"
      ],
      "text/plain": [
       "<IPython.core.display.Video object>"
      ]
     },
     "execution_count": 27,
     "metadata": {},
     "output_type": "execute_result"
    }
   ],
   "source": [
    "from IPython.display import Video\n",
    "Video(\"activations_video.avi\")"
   ]
  },
  {
   "cell_type": "code",
   "execution_count": null,
   "metadata": {},
   "outputs": [],
   "source": []
  }
 ],
 "metadata": {
  "kernelspec": {
   "display_name": "Python 3",
   "language": "python",
   "name": "python3"
  },
  "language_info": {
   "codemirror_mode": {
    "name": "ipython",
    "version": 3
   },
   "file_extension": ".py",
   "mimetype": "text/x-python",
   "name": "python",
   "nbconvert_exporter": "python",
   "pygments_lexer": "ipython3",
   "version": "3.7.3"
  }
 },
 "nbformat": 4,
 "nbformat_minor": 2
}
